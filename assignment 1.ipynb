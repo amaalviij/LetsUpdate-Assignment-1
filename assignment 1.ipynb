{
  "nbformat": 4,
  "nbformat_minor": 0,
  "metadata": {
    "colab": {
      "provenance": [],
      "collapsed_sections": []
    },
    "kernelspec": {
      "name": "python3",
      "display_name": "Python 3"
    },
    "language_info": {
      "name": "python"
    }
  },
  "cells": [
    {
      "cell_type": "code",
      "execution_count": 5,
      "metadata": {
        "id": "dAoLZylrmaIL",
        "colab": {
          "base_uri": "https://localhost:8080/"
        },
        "outputId": "30f4c425-8d41-46dc-ac27-2d73b9c4bcf1"
      },
      "outputs": [
        {
          "output_type": "stream",
          "name": "stdout",
          "text": [
            "It is even\n"
          ]
        }
      ],
      "source": [
        "x=100\n",
        "if x%2 == 0:\n",
        "  print(\"It is even\")\n",
        "else:\n",
        "  print(\"It is odd\")\n",
        "\n"
      ]
    },
    {
      "cell_type": "code",
      "source": [],
      "metadata": {
        "id": "VwB_UzZr56Vp"
      },
      "execution_count": null,
      "outputs": []
    }
  ]
}